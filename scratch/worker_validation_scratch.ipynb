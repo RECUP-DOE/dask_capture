{
 "cells": [
  {
   "cell_type": "code",
   "execution_count": 1,
   "metadata": {},
   "outputs": [],
   "source": [
    "import sys\n",
    "sys.path.insert(0,'..')\n",
    "\n",
    "import dask_md_objs as dmdo\n",
    "import pickle\n",
    "from typing import List"
   ]
  },
  {
   "cell_type": "code",
   "execution_count": 2,
   "metadata": {},
   "outputs": [],
   "source": [
    "dataloc = \"../data/compressed_experimental_out.pickle\"\n",
    "data: dmdo.TaskHandler = None\n",
    "with open(dataloc, 'rb') as f:\n",
    "    data = pickle.load(f)"
   ]
  },
  {
   "cell_type": "code",
   "execution_count": 3,
   "metadata": {},
   "outputs": [],
   "source": [
    "incoming: List[dmdo.WXferEvent] = data.return_all_wxfer_events(dmdo.TransferTypeEnum.INCOMING)\n",
    "outgoing: List[dmdo.WXferEvent] = data.return_all_wxfer_events(dmdo.TransferTypeEnum.OUTGOING)"
   ]
  },
  {
   "cell_type": "code",
   "execution_count": 4,
   "metadata": {},
   "outputs": [
    {
     "name": "stdout",
     "output_type": "stream",
     "text": [
      "Returned lengths:\n",
      "INCOMING: 3731\t\tOUTGOING: 3247\n"
     ]
    }
   ],
   "source": [
    "print(\"Returned lengths:\\nINCOMING: {a}\\t\\tOUTGOING: {b}\".format(a=len(incoming), b=len(outgoing)))"
   ]
  }
 ],
 "metadata": {
  "kernelspec": {
   "display_name": ".venv",
   "language": "python",
   "name": "python3"
  },
  "language_info": {
   "codemirror_mode": {
    "name": "ipython",
    "version": 3
   },
   "file_extension": ".py",
   "mimetype": "text/x-python",
   "name": "python",
   "nbconvert_exporter": "python",
   "pygments_lexer": "ipython3",
   "version": "3.8.10"
  }
 },
 "nbformat": 4,
 "nbformat_minor": 2
}
